{
 "cells": [
  {
   "cell_type": "markdown",
   "id": "9a71608a",
   "metadata": {},
   "source": [
    "# Project Objectives\n",
    "\n",
    "Document code, process (data acquistion, preparation, exploratory data analysis and statistical testing, modeling, and model evaluation), findings, and key takeaways in a Jupyter Notebook Final Report.\n",
    "\n",
    "Create modules (acquire.py, prepare.py) that make your process repeateable and your report (notebook) easier to read and follow.\n",
    "\n",
    "Ask exploratory questions of your data that will help you understand more about the attributes and drivers of home value. Answer questions through charts and statistical tests.\n",
    "\n",
    "Construct a model to predict assessed home value for single family properties using regression techniques.\n",
    "\n",
    "Make recommendations to a data science team about how to improve predictions.\n",
    "\n",
    "Refine your work into a Report, in the form of a jupyter notebook, that you will walk through in a 5 minute presentation to a group of collegues and managers about the work you did, why, goals, what you found, your methdologies, and your conclusions.\n",
    "\n",
    "Be prepared to answer panel questions about your code, process, findings and key takeaways, and model."
   ]
  },
  {
   "cell_type": "markdown",
   "id": "23791da8",
   "metadata": {},
   "source": [
    "# Business Goals:\n",
    "\n",
    "My goal is to find key driver for taxtotal in families property in 2017\n",
    "\n",
    "Construct an ML Regression model that predict propery tax assessed values ('taxvaluedollarcnt') of Single Family Properties using attributes of the properties.\n",
    "\n",
    "Find the key drivers of property value for single family properties. Some questions that come to mind are: Why do some properties have a much higher value than others when they are located so close to each other? Why are some properties valued so differently from others when they have nearly the same physical attributes but only differ in location? Is having 1 bathroom worse than having 2 bedrooms?\n",
    "\n",
    "Deliver a report that the data science team can read through and replicate, understand what steps were taken, why and what the outcome was.\n",
    "\n",
    "Make recommendations on what works or doesn't work in prediction these homes' values."
   ]
  },
  {
   "cell_type": "markdown",
   "id": "9ff978ca",
   "metadata": {},
   "source": [
    "# Questions:fix----\n",
    "\n",
    "• What effect families houses values??\n",
    "\n",
    "• Why do family house increase so much ??\n",
    "\n",
    "• Can we stop the price increase ??"
   ]
  },
  {
   "cell_type": "markdown",
   "id": "025e99e6",
   "metadata": {},
   "source": [
    "# Steps:\n",
    "1-Data acquistion \n",
    "\n",
    "2-Preparation\n",
    "\n",
    "3-Exploratory data analysis \n",
    "\n",
    "4-Modeling \n",
    "\n",
    "5-Model evaluation"
   ]
  },
  {
   "cell_type": "code",
   "execution_count": null,
   "id": "d4c0444b",
   "metadata": {},
   "outputs": [],
   "source": [
    "import pandas as pd\n",
    "import numpy as np \n",
    "import acquire\n",
    "import prepare\n",
    "import pandas as pd\n",
    "import numpy as np\n",
    "import os\n",
    "import scipy.stats as stats\n",
    "from sklearn.impute import SimpleImputer\n",
    "import sklearn.preprocessing\n",
    "# Viz imports\n",
    "import matplotlib.pyplot as plt\n",
    "import seaborn as sns\n",
    "import altair as alt\n",
    "from IPython.display import IFrame\n",
    "\n",
    "# Modeling imports\n",
    "from sklearn.model_selection import train_test_split\n",
    "from sklearn.ensemble import RandomForestClassifier\n",
    "from sklearn.neighbors import KNeighborsClassifier\n",
    "from sklearn.tree import DecisionTreeClassifier, plot_tree, export_text\n",
    "from sklearn.linear_model import LogisticRegression\n",
    "from sklearn.metrics import classification_report, confusion_matrix, accuracy_score\n",
    "import warnings\n",
    "from sklearn.metrics import mean_squared_error\n",
    "from sklearn.linear_model import LinearRegression, LassoLars, TweedieRegressor\n",
    "from sklearn.preprocessing import PolynomialFeatures\n",
    "warnings.filterwarnings(\"ignore\")\n",
    "# Custom module imports\n",
    "import acquire\n",
    "import prepare\n",
    "import modeling\n",
    "α = .05\n",
    "alpha= .05"
   ]
  },
  {
   "cell_type": "code",
   "execution_count": null,
   "id": "37063cd5",
   "metadata": {},
   "outputs": [],
   "source": []
  },
  {
   "cell_type": "code",
   "execution_count": null,
   "id": "f0fa9e2a",
   "metadata": {},
   "outputs": [],
   "source": []
  },
  {
   "cell_type": "code",
   "execution_count": null,
   "id": "60489b08",
   "metadata": {},
   "outputs": [],
   "source": []
  }
 ],
 "metadata": {
  "kernelspec": {
   "display_name": "Python 3 (ipykernel)",
   "language": "python",
   "name": "python3"
  },
  "language_info": {
   "codemirror_mode": {
    "name": "ipython",
    "version": 3
   },
   "file_extension": ".py",
   "mimetype": "text/x-python",
   "name": "python",
   "nbconvert_exporter": "python",
   "pygments_lexer": "ipython3",
   "version": "3.9.12"
  }
 },
 "nbformat": 4,
 "nbformat_minor": 5
}
