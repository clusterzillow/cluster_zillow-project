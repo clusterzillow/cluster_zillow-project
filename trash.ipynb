{
 "cells": [
  {
   "cell_type": "markdown",
   "id": "42c91eba",
   "metadata": {},
   "source": [
    "# Project Objectives\n",
    "\n",
    "Document code, process (data acquistion, preparation, exploratory data analysis and statistical testing, modeling, and model evaluation), findings, and key takeaways in a Jupyter Notebook Final Report.\n",
    "\n",
    "Create modules (acquire.py, prepare.py) that make your process repeateable and your report (notebook) easier to read and follow.\n",
    "\n",
    "Ask exploratory questions of your data that will help you understand more about the attributes and drivers of home value. Answer questions through charts and statistical tests.\n",
    "\n",
    "Construct a model to predict assessed home value for single family properties using regression techniques.\n",
    "\n",
    "Make recommendations to a data science team about how to improve predictions.\n",
    "\n",
    "Refine your work into a Report, in the form of a jupyter notebook, that you will walk through in a 5 minute presentation to a group of collegues and managers about the work you did, why, goals, what you found, your methdologies, and your conclusions.\n",
    "\n",
    "Be prepared to answer panel questions about your code, process, findings and key takeaways, and model."
   ]
  },
  {
   "cell_type": "markdown",
   "id": "cc1d0752",
   "metadata": {},
   "source": [
    "# Business Goals:\n",
    "\n",
    "My goal is to find key driver for taxtotal in families property in 2017\n",
    "\n",
    "Construct an ML Regression model that predict propery tax assessed values ('taxvaluedollarcnt') of Single Family Properties using attributes of the properties.\n",
    "\n",
    "Find the key drivers of property value for single family properties. Some questions that come to mind are: Why do some properties have a much higher value than others when they are located so close to each other? Why are some properties valued so differently from others when they have nearly the same physical attributes but only differ in location? Is having 1 bathroom worse than having 2 bedrooms?\n",
    "\n",
    "Deliver a report that the data science team can read through and replicate, understand what steps were taken, why and what the outcome was.\n",
    "\n",
    "Make recommendations on what works or doesn't work in prediction these homes' values."
   ]
  },
  {
   "cell_type": "markdown",
   "id": "b24634ef",
   "metadata": {},
   "source": [
    "# Questions:fix----\n",
    "\n",
    "• What effect families houses values??\n",
    "\n",
    "• Why do family house increase so much ??\n",
    "\n",
    "• Can we stop the price increase ??"
   ]
  },
  {
   "cell_type": "markdown",
   "id": "1f450c61",
   "metadata": {},
   "source": [
    "# Steps:\n",
    "1-Data acquistion \n",
    "\n",
    "2-Preparation\n",
    "\n",
    "3-Exploratory data analysis \n",
    "\n",
    "4-Modeling \n",
    "\n",
    "5-Model evaluation"
   ]
  },
  {
   "cell_type": "code",
   "execution_count": 1,
   "id": "d6761118",
   "metadata": {},
   "outputs": [],
   "source": [
    "import pandas as pd\n",
    "import numpy as np \n",
    "import acquire\n",
    "import prepare\n",
    "import pandas as pd\n",
    "import numpy as np\n",
    "import os\n",
    "import scipy.stats as stats\n",
    "from sklearn.impute import SimpleImputer\n",
    "import sklearn.preprocessing\n",
    "# Viz imports\n",
    "import matplotlib.pyplot as plt\n",
    "import seaborn as sns\n",
    "import altair as alt\n",
    "from IPython.display import IFrame\n",
    "\n",
    "# Modeling imports\n",
    "from sklearn.model_selection import train_test_split\n",
    "from sklearn.ensemble import RandomForestClassifier\n",
    "from sklearn.neighbors import KNeighborsClassifier\n",
    "from sklearn.tree import DecisionTreeClassifier, plot_tree, export_text\n",
    "from sklearn.linear_model import LogisticRegression\n",
    "from sklearn.metrics import classification_report, confusion_matrix, accuracy_score\n",
    "import warnings\n",
    "from sklearn.metrics import mean_squared_error\n",
    "from sklearn.linear_model import LinearRegression, LassoLars, TweedieRegressor\n",
    "from sklearn.preprocessing import PolynomialFeatures\n",
    "warnings.filterwarnings(\"ignore\")\n",
    "# Custom module imports\n",
    "import acquire\n",
    "α = .05\n",
    "alpha= .05"
   ]
  },
  {
   "cell_type": "code",
   "execution_count": 2,
   "id": "a2fe4e63",
   "metadata": {},
   "outputs": [
    {
     "data": {
      "text/plain": [
       "(52441, 13)"
      ]
     },
     "execution_count": 2,
     "metadata": {},
     "output_type": "execute_result"
    }
   ],
   "source": [
    "df=acquire.sqlclean_zillow()\n",
    "df.shape"
   ]
  },
  {
   "cell_type": "code",
   "execution_count": 3,
   "id": "6605dcfd",
   "metadata": {},
   "outputs": [
    {
     "data": {
      "text/html": [
       "<div>\n",
       "<style scoped>\n",
       "    .dataframe tbody tr th:only-of-type {\n",
       "        vertical-align: middle;\n",
       "    }\n",
       "\n",
       "    .dataframe tbody tr th {\n",
       "        vertical-align: top;\n",
       "    }\n",
       "\n",
       "    .dataframe thead th {\n",
       "        text-align: right;\n",
       "    }\n",
       "</style>\n",
       "<table border=\"1\" class=\"dataframe\">\n",
       "  <thead>\n",
       "    <tr style=\"text-align: right;\">\n",
       "      <th></th>\n",
       "      <th>bedroomcnt</th>\n",
       "      <th>bathroomcnt</th>\n",
       "      <th>calculatedfinishedsquarefeet</th>\n",
       "      <th>taxvaluedollarcnt</th>\n",
       "      <th>yearbuilt</th>\n",
       "      <th>fips</th>\n",
       "      <th>regionidcounty</th>\n",
       "      <th>regionidzip</th>\n",
       "      <th>numberofstories</th>\n",
       "      <th>latitude</th>\n",
       "      <th>longitude</th>\n",
       "      <th>logerror</th>\n",
       "      <th>taxamount</th>\n",
       "    </tr>\n",
       "  </thead>\n",
       "  <tbody>\n",
       "    <tr>\n",
       "      <th>0</th>\n",
       "      <td>2.0</td>\n",
       "      <td>1.0</td>\n",
       "      <td>930.0</td>\n",
       "      <td>67263.0</td>\n",
       "      <td>1945.0</td>\n",
       "      <td>6037.0</td>\n",
       "      <td>3101.0</td>\n",
       "      <td>96174.0</td>\n",
       "      <td>NaN</td>\n",
       "      <td>33962013.0</td>\n",
       "      <td>-118047660.0</td>\n",
       "      <td>0.793959</td>\n",
       "      <td>1115.79</td>\n",
       "    </tr>\n",
       "    <tr>\n",
       "      <th>1</th>\n",
       "      <td>4.0</td>\n",
       "      <td>2.0</td>\n",
       "      <td>2835.0</td>\n",
       "      <td>1104415.0</td>\n",
       "      <td>1962.0</td>\n",
       "      <td>6037.0</td>\n",
       "      <td>3101.0</td>\n",
       "      <td>96030.0</td>\n",
       "      <td>NaN</td>\n",
       "      <td>34074770.0</td>\n",
       "      <td>-118492861.0</td>\n",
       "      <td>0.033250</td>\n",
       "      <td>13482.23</td>\n",
       "    </tr>\n",
       "    <tr>\n",
       "      <th>2</th>\n",
       "      <td>5.0</td>\n",
       "      <td>5.0</td>\n",
       "      <td>5426.0</td>\n",
       "      <td>2969851.0</td>\n",
       "      <td>2011.0</td>\n",
       "      <td>6037.0</td>\n",
       "      <td>3101.0</td>\n",
       "      <td>96121.0</td>\n",
       "      <td>NaN</td>\n",
       "      <td>33762826.0</td>\n",
       "      <td>-118414643.0</td>\n",
       "      <td>0.144254</td>\n",
       "      <td>33797.88</td>\n",
       "    </tr>\n",
       "    <tr>\n",
       "      <th>3</th>\n",
       "      <td>6.0</td>\n",
       "      <td>7.0</td>\n",
       "      <td>6076.0</td>\n",
       "      <td>3834000.0</td>\n",
       "      <td>1956.0</td>\n",
       "      <td>6037.0</td>\n",
       "      <td>3101.0</td>\n",
       "      <td>96337.0</td>\n",
       "      <td>NaN</td>\n",
       "      <td>34162921.0</td>\n",
       "      <td>-118655106.0</td>\n",
       "      <td>0.089358</td>\n",
       "      <td>43255.31</td>\n",
       "    </tr>\n",
       "    <tr>\n",
       "      <th>4</th>\n",
       "      <td>3.0</td>\n",
       "      <td>2.0</td>\n",
       "      <td>1304.0</td>\n",
       "      <td>351730.0</td>\n",
       "      <td>1959.0</td>\n",
       "      <td>6111.0</td>\n",
       "      <td>2061.0</td>\n",
       "      <td>97099.0</td>\n",
       "      <td>1.0</td>\n",
       "      <td>34438672.0</td>\n",
       "      <td>-119262152.0</td>\n",
       "      <td>0.073319</td>\n",
       "      <td>4578.98</td>\n",
       "    </tr>\n",
       "  </tbody>\n",
       "</table>\n",
       "</div>"
      ],
      "text/plain": [
       "   bedroomcnt  bathroomcnt  calculatedfinishedsquarefeet  taxvaluedollarcnt  \\\n",
       "0         2.0          1.0                         930.0            67263.0   \n",
       "1         4.0          2.0                        2835.0          1104415.0   \n",
       "2         5.0          5.0                        5426.0          2969851.0   \n",
       "3         6.0          7.0                        6076.0          3834000.0   \n",
       "4         3.0          2.0                        1304.0           351730.0   \n",
       "\n",
       "   yearbuilt    fips  regionidcounty  regionidzip  numberofstories  \\\n",
       "0     1945.0  6037.0          3101.0      96174.0              NaN   \n",
       "1     1962.0  6037.0          3101.0      96030.0              NaN   \n",
       "2     2011.0  6037.0          3101.0      96121.0              NaN   \n",
       "3     1956.0  6037.0          3101.0      96337.0              NaN   \n",
       "4     1959.0  6111.0          2061.0      97099.0              1.0   \n",
       "\n",
       "     latitude    longitude  logerror  taxamount  \n",
       "0  33962013.0 -118047660.0  0.793959    1115.79  \n",
       "1  34074770.0 -118492861.0  0.033250   13482.23  \n",
       "2  33762826.0 -118414643.0  0.144254   33797.88  \n",
       "3  34162921.0 -118655106.0  0.089358   43255.31  \n",
       "4  34438672.0 -119262152.0  0.073319    4578.98  "
      ]
     },
     "execution_count": 3,
     "metadata": {},
     "output_type": "execute_result"
    }
   ],
   "source": [
    "df.head()"
   ]
  },
  {
   "cell_type": "code",
   "execution_count": 4,
   "id": "80bb3973",
   "metadata": {},
   "outputs": [],
   "source": [
    "#prepare zillow using sql in the prepare.py file\n",
    "df=prepare.prep_zillow(df)"
   ]
  },
  {
   "cell_type": "code",
   "execution_count": 5,
   "id": "c9d44d63",
   "metadata": {},
   "outputs": [
    {
     "data": {
      "text/html": [
       "<div>\n",
       "<style scoped>\n",
       "    .dataframe tbody tr th:only-of-type {\n",
       "        vertical-align: middle;\n",
       "    }\n",
       "\n",
       "    .dataframe tbody tr th {\n",
       "        vertical-align: top;\n",
       "    }\n",
       "\n",
       "    .dataframe thead th {\n",
       "        text-align: right;\n",
       "    }\n",
       "</style>\n",
       "<table border=\"1\" class=\"dataframe\">\n",
       "  <thead>\n",
       "    <tr style=\"text-align: right;\">\n",
       "      <th></th>\n",
       "      <th>Bedrooms</th>\n",
       "      <th>Bathrooms</th>\n",
       "      <th>Squarefeet</th>\n",
       "      <th>TaxesTotal</th>\n",
       "      <th>Year</th>\n",
       "      <th>County</th>\n",
       "      <th>Zip</th>\n",
       "      <th>latitude</th>\n",
       "      <th>longitude</th>\n",
       "      <th>Log_error</th>\n",
       "      <th>Taxamount</th>\n",
       "      <th>TotalRooms</th>\n",
       "      <th>Decade</th>\n",
       "      <th>location</th>\n",
       "      <th>los_angeles</th>\n",
       "      <th>orange</th>\n",
       "      <th>ventura</th>\n",
       "    </tr>\n",
       "  </thead>\n",
       "  <tbody>\n",
       "    <tr>\n",
       "      <th>0</th>\n",
       "      <td>2.0</td>\n",
       "      <td>1.0</td>\n",
       "      <td>930.0</td>\n",
       "      <td>67263.0</td>\n",
       "      <td>1945.0</td>\n",
       "      <td>3101.0</td>\n",
       "      <td>96174.0</td>\n",
       "      <td>33962013.0</td>\n",
       "      <td>-118047660.0</td>\n",
       "      <td>0.793959</td>\n",
       "      <td>1115.79</td>\n",
       "      <td>3.0</td>\n",
       "      <td>1940</td>\n",
       "      <td>Los_Angeles</td>\n",
       "      <td>1</td>\n",
       "      <td>0</td>\n",
       "      <td>0</td>\n",
       "    </tr>\n",
       "    <tr>\n",
       "      <th>1</th>\n",
       "      <td>4.0</td>\n",
       "      <td>2.0</td>\n",
       "      <td>2835.0</td>\n",
       "      <td>1104415.0</td>\n",
       "      <td>1962.0</td>\n",
       "      <td>3101.0</td>\n",
       "      <td>96030.0</td>\n",
       "      <td>34074770.0</td>\n",
       "      <td>-118492861.0</td>\n",
       "      <td>0.033250</td>\n",
       "      <td>13482.23</td>\n",
       "      <td>6.0</td>\n",
       "      <td>1960</td>\n",
       "      <td>Los_Angeles</td>\n",
       "      <td>1</td>\n",
       "      <td>0</td>\n",
       "      <td>0</td>\n",
       "    </tr>\n",
       "    <tr>\n",
       "      <th>4</th>\n",
       "      <td>3.0</td>\n",
       "      <td>2.0</td>\n",
       "      <td>1304.0</td>\n",
       "      <td>351730.0</td>\n",
       "      <td>1959.0</td>\n",
       "      <td>2061.0</td>\n",
       "      <td>97099.0</td>\n",
       "      <td>34438672.0</td>\n",
       "      <td>-119262152.0</td>\n",
       "      <td>0.073319</td>\n",
       "      <td>4578.98</td>\n",
       "      <td>5.0</td>\n",
       "      <td>1950</td>\n",
       "      <td>Ventura</td>\n",
       "      <td>0</td>\n",
       "      <td>0</td>\n",
       "      <td>1</td>\n",
       "    </tr>\n",
       "    <tr>\n",
       "      <th>5</th>\n",
       "      <td>2.0</td>\n",
       "      <td>1.0</td>\n",
       "      <td>1045.0</td>\n",
       "      <td>251242.0</td>\n",
       "      <td>1913.0</td>\n",
       "      <td>3101.0</td>\n",
       "      <td>96246.0</td>\n",
       "      <td>33772988.0</td>\n",
       "      <td>-118156119.0</td>\n",
       "      <td>-0.047774</td>\n",
       "      <td>3069.33</td>\n",
       "      <td>3.0</td>\n",
       "      <td>1910</td>\n",
       "      <td>Los_Angeles</td>\n",
       "      <td>1</td>\n",
       "      <td>0</td>\n",
       "      <td>0</td>\n",
       "    </tr>\n",
       "    <tr>\n",
       "      <th>6</th>\n",
       "      <td>3.0</td>\n",
       "      <td>4.0</td>\n",
       "      <td>2410.0</td>\n",
       "      <td>1015893.0</td>\n",
       "      <td>1947.0</td>\n",
       "      <td>3101.0</td>\n",
       "      <td>96412.0</td>\n",
       "      <td>34153323.0</td>\n",
       "      <td>-118470096.0</td>\n",
       "      <td>-0.011103</td>\n",
       "      <td>12309.78</td>\n",
       "      <td>7.0</td>\n",
       "      <td>1940</td>\n",
       "      <td>Los_Angeles</td>\n",
       "      <td>1</td>\n",
       "      <td>0</td>\n",
       "      <td>0</td>\n",
       "    </tr>\n",
       "  </tbody>\n",
       "</table>\n",
       "</div>"
      ],
      "text/plain": [
       "   Bedrooms  Bathrooms  Squarefeet  TaxesTotal    Year  County      Zip  \\\n",
       "0       2.0        1.0       930.0     67263.0  1945.0  3101.0  96174.0   \n",
       "1       4.0        2.0      2835.0   1104415.0  1962.0  3101.0  96030.0   \n",
       "4       3.0        2.0      1304.0    351730.0  1959.0  2061.0  97099.0   \n",
       "5       2.0        1.0      1045.0    251242.0  1913.0  3101.0  96246.0   \n",
       "6       3.0        4.0      2410.0   1015893.0  1947.0  3101.0  96412.0   \n",
       "\n",
       "     latitude    longitude  Log_error  Taxamount  TotalRooms  Decade  \\\n",
       "0  33962013.0 -118047660.0   0.793959    1115.79         3.0    1940   \n",
       "1  34074770.0 -118492861.0   0.033250   13482.23         6.0    1960   \n",
       "4  34438672.0 -119262152.0   0.073319    4578.98         5.0    1950   \n",
       "5  33772988.0 -118156119.0  -0.047774    3069.33         3.0    1910   \n",
       "6  34153323.0 -118470096.0  -0.011103   12309.78         7.0    1940   \n",
       "\n",
       "      location  los_angeles  orange  ventura  \n",
       "0  Los_Angeles            1       0        0  \n",
       "1  Los_Angeles            1       0        0  \n",
       "4      Ventura            0       0        1  \n",
       "5  Los_Angeles            1       0        0  \n",
       "6  Los_Angeles            1       0        0  "
      ]
     },
     "execution_count": 5,
     "metadata": {},
     "output_type": "execute_result"
    }
   ],
   "source": [
    "df.head()"
   ]
  },
  {
   "cell_type": "code",
   "execution_count": 11,
   "id": "b9634477",
   "metadata": {},
   "outputs": [
    {
     "data": {
      "text/plain": [
       "((28263, 17), (9422, 17), (9422, 17))"
      ]
     },
     "execution_count": 11,
     "metadata": {},
     "output_type": "execute_result"
    }
   ],
   "source": [
    "# splitting data into train, validate, test 60,20,20 using the prepare.py\n",
    "train,val,test=prepare.my_train_test_split(df)\n",
    "train.shape,val.shape,test.shape"
   ]
  },
  {
   "cell_type": "code",
   "execution_count": 12,
   "id": "97f41791",
   "metadata": {},
   "outputs": [
    {
     "data": {
      "text/html": [
       "<div>\n",
       "<style scoped>\n",
       "    .dataframe tbody tr th:only-of-type {\n",
       "        vertical-align: middle;\n",
       "    }\n",
       "\n",
       "    .dataframe tbody tr th {\n",
       "        vertical-align: top;\n",
       "    }\n",
       "\n",
       "    .dataframe thead th {\n",
       "        text-align: right;\n",
       "    }\n",
       "</style>\n",
       "<table border=\"1\" class=\"dataframe\">\n",
       "  <thead>\n",
       "    <tr style=\"text-align: right;\">\n",
       "      <th></th>\n",
       "      <th>Bedrooms</th>\n",
       "      <th>Bathrooms</th>\n",
       "      <th>Squarefeet</th>\n",
       "      <th>TaxesTotal</th>\n",
       "      <th>Year</th>\n",
       "      <th>County</th>\n",
       "      <th>Zip</th>\n",
       "      <th>latitude</th>\n",
       "      <th>longitude</th>\n",
       "      <th>Log_error</th>\n",
       "      <th>Taxamount</th>\n",
       "      <th>TotalRooms</th>\n",
       "      <th>Decade</th>\n",
       "      <th>location</th>\n",
       "      <th>los_angeles</th>\n",
       "      <th>orange</th>\n",
       "      <th>ventura</th>\n",
       "    </tr>\n",
       "  </thead>\n",
       "  <tbody>\n",
       "    <tr>\n",
       "      <th>2641</th>\n",
       "      <td>3.0</td>\n",
       "      <td>2.0</td>\n",
       "      <td>1976.0</td>\n",
       "      <td>403193.0</td>\n",
       "      <td>1955.0</td>\n",
       "      <td>3101.0</td>\n",
       "      <td>96474.0</td>\n",
       "      <td>34094699.0</td>\n",
       "      <td>-117875639.0</td>\n",
       "      <td>0.029309</td>\n",
       "      <td>5099.43</td>\n",
       "      <td>5.0</td>\n",
       "      <td>1950</td>\n",
       "      <td>Los_Angeles</td>\n",
       "      <td>1</td>\n",
       "      <td>0</td>\n",
       "      <td>0</td>\n",
       "    </tr>\n",
       "    <tr>\n",
       "      <th>9542</th>\n",
       "      <td>2.0</td>\n",
       "      <td>1.0</td>\n",
       "      <td>1116.0</td>\n",
       "      <td>35158.0</td>\n",
       "      <td>1921.0</td>\n",
       "      <td>3101.0</td>\n",
       "      <td>96004.0</td>\n",
       "      <td>34023091.0</td>\n",
       "      <td>-118185650.0</td>\n",
       "      <td>-0.075111</td>\n",
       "      <td>1039.36</td>\n",
       "      <td>3.0</td>\n",
       "      <td>1920</td>\n",
       "      <td>Los_Angeles</td>\n",
       "      <td>1</td>\n",
       "      <td>0</td>\n",
       "      <td>0</td>\n",
       "    </tr>\n",
       "    <tr>\n",
       "      <th>25031</th>\n",
       "      <td>3.0</td>\n",
       "      <td>2.5</td>\n",
       "      <td>1746.0</td>\n",
       "      <td>667517.0</td>\n",
       "      <td>1994.0</td>\n",
       "      <td>1286.0</td>\n",
       "      <td>96974.0</td>\n",
       "      <td>33601890.0</td>\n",
       "      <td>-117736296.0</td>\n",
       "      <td>0.174481</td>\n",
       "      <td>6638.42</td>\n",
       "      <td>5.5</td>\n",
       "      <td>1990</td>\n",
       "      <td>Orange</td>\n",
       "      <td>0</td>\n",
       "      <td>1</td>\n",
       "      <td>0</td>\n",
       "    </tr>\n",
       "    <tr>\n",
       "      <th>6648</th>\n",
       "      <td>3.0</td>\n",
       "      <td>2.0</td>\n",
       "      <td>1144.0</td>\n",
       "      <td>238249.0</td>\n",
       "      <td>1923.0</td>\n",
       "      <td>3101.0</td>\n",
       "      <td>95984.0</td>\n",
       "      <td>33972719.0</td>\n",
       "      <td>-118272455.0</td>\n",
       "      <td>0.273946</td>\n",
       "      <td>2981.06</td>\n",
       "      <td>5.0</td>\n",
       "      <td>1920</td>\n",
       "      <td>Los_Angeles</td>\n",
       "      <td>1</td>\n",
       "      <td>0</td>\n",
       "      <td>0</td>\n",
       "    </tr>\n",
       "    <tr>\n",
       "      <th>10580</th>\n",
       "      <td>3.0</td>\n",
       "      <td>2.0</td>\n",
       "      <td>1292.0</td>\n",
       "      <td>504513.0</td>\n",
       "      <td>1960.0</td>\n",
       "      <td>1286.0</td>\n",
       "      <td>97052.0</td>\n",
       "      <td>33791149.0</td>\n",
       "      <td>-118020938.0</td>\n",
       "      <td>0.060386</td>\n",
       "      <td>6413.52</td>\n",
       "      <td>5.0</td>\n",
       "      <td>1950</td>\n",
       "      <td>Orange</td>\n",
       "      <td>0</td>\n",
       "      <td>1</td>\n",
       "      <td>0</td>\n",
       "    </tr>\n",
       "  </tbody>\n",
       "</table>\n",
       "</div>"
      ],
      "text/plain": [
       "       Bedrooms  Bathrooms  Squarefeet  TaxesTotal    Year  County      Zip  \\\n",
       "2641        3.0        2.0      1976.0    403193.0  1955.0  3101.0  96474.0   \n",
       "9542        2.0        1.0      1116.0     35158.0  1921.0  3101.0  96004.0   \n",
       "25031       3.0        2.5      1746.0    667517.0  1994.0  1286.0  96974.0   \n",
       "6648        3.0        2.0      1144.0    238249.0  1923.0  3101.0  95984.0   \n",
       "10580       3.0        2.0      1292.0    504513.0  1960.0  1286.0  97052.0   \n",
       "\n",
       "         latitude    longitude  Log_error  Taxamount  TotalRooms  Decade  \\\n",
       "2641   34094699.0 -117875639.0   0.029309    5099.43         5.0    1950   \n",
       "9542   34023091.0 -118185650.0  -0.075111    1039.36         3.0    1920   \n",
       "25031  33601890.0 -117736296.0   0.174481    6638.42         5.5    1990   \n",
       "6648   33972719.0 -118272455.0   0.273946    2981.06         5.0    1920   \n",
       "10580  33791149.0 -118020938.0   0.060386    6413.52         5.0    1950   \n",
       "\n",
       "          location  los_angeles  orange  ventura  \n",
       "2641   Los_Angeles            1       0        0  \n",
       "9542   Los_Angeles            1       0        0  \n",
       "25031       Orange            0       1        0  \n",
       "6648   Los_Angeles            1       0        0  \n",
       "10580       Orange            0       1        0  "
      ]
     },
     "execution_count": 12,
     "metadata": {},
     "output_type": "execute_result"
    }
   ],
   "source": [
    "train.head()"
   ]
  },
  {
   "cell_type": "code",
   "execution_count": 8,
   "id": "3bf78637",
   "metadata": {},
   "outputs": [],
   "source": [
    "#Creating a scaled of each split to prevent leaks and to create proper modeling.\n",
    "cols_to_scale=['Bedrooms','Bathrooms','Squarefeet','TaxesTotal','Year','County','Zip','latitude',\n",
    "               'longitude','TotalRooms','Decade','los_angeles', 'orange', 'ventura','Taxamount','Log_error']\n",
    "train_scaled, val_scaled, test_scaled = prepare.scale_data(train, val, test, cols_to_scale)"
   ]
  },
  {
   "cell_type": "code",
   "execution_count": 9,
   "id": "a93e4a6e",
   "metadata": {},
   "outputs": [
    {
     "data": {
      "image/png": "[encoded data removed]",
      "text/plain": [
       "<Figure size 432x288 with 1 Axes>"
      ]
     },
     "metadata": {
      "needs_background": "light"
     },
     "output_type": "display_data"
    },
    {
     "data": {
      "image/png": "[encoded data removed]",
      "text/plain": [
       "<Figure size 432x288 with 1 Axes>"
      ]
     },
     "metadata": {
      "needs_background": "light"
     },
     "output_type": "display_data"
    },
    {
     "data": {
      "image/png": "[encoded data removed]",
      "text/plain": [
       "<Figure size 432x288 with 1 Axes>"
      ]
     },
     "metadata": {
      "needs_background": "light"
     },
     "output_type": "display_data"
    },
    {
     "data": {
      "image/png": "[encoded data removed]",
      "text/plain": [
       "<Figure size 432x288 with 1 Axes>"
      ]
     },
     "metadata": {
      "needs_background": "light"
     },
     "output_type": "display_data"
    },
    {
     "data": {
      "image/png": "[encoded data removed]",
      "text/plain": [
       "<Figure size 432x288 with 1 Axes>"
      ]
     },
     "metadata": {
      "needs_background": "light"
     },
     "output_type": "display_data"
    },
    {
     "data": {
      "image/png": "[encoded data removed]",
      "text/plain": [
       "<Figure size 432x288 with 1 Axes>"
      ]
     },
     "metadata": {
      "needs_background": "light"
     },
     "output_type": "display_data"
    },
    {
     "data": {
      "image/png": "[encoded data removed]",
      "text/plain": [
       "<Figure size 432x288 with 1 Axes>"
      ]
     },
     "metadata": {
      "needs_background": "light"
     },
     "output_type": "display_data"
    },
    {
     "data": {
      "image/png": "[encoded data removed]",
      "text/plain": [
       "<Figure size 432x288 with 1 Axes>"
      ]
     },
     "metadata": {
      "needs_background": "light"
     },
     "output_type": "display_data"
    },
    {
     "data": {
      "image/png": "[encoded data removed]",
      "text/plain": [
       "<Figure size 432x288 with 1 Axes>"
      ]
     },
     "metadata": {
      "needs_background": "light"
     },
     "output_type": "display_data"
    },
    {
     "data": {
      "image/png": "[encoded data removed]",
      "text/plain": [
       "<Figure size 432x288 with 1 Axes>"
      ]
     },
     "metadata": {
      "needs_background": "light"
     },
     "output_type": "display_data"
    },
    {
     "data": {
      "image/png": "[encoded data removed]",
      "text/plain": [
       "<Figure size 432x288 with 1 Axes>"
      ]
     },
     "metadata": {
      "needs_background": "light"
     },
     "output_type": "display_data"
    },
    {
     "data": {
      "image/png": "[encoded data removed]",
      "text/plain": [
       "<Figure size 432x288 with 1 Axes>"
      ]
     },
     "metadata": {
      "needs_background": "light"
     },
     "output_type": "display_data"
    },
    {
     "data": {
      "image/png": "[encoded data removed]",
      "text/plain": [
       "<Figure size 432x288 with 1 Axes>"
      ]
     },
     "metadata": {
      "needs_background": "light"
     },
     "output_type": "display_data"
    },
    {
     "data": {
      "image/png": "[encoded data removed]",
      "text/plain": [
       "<Figure size 432x288 with 1 Axes>"
      ]
     },
     "metadata": {
      "needs_background": "light"
     },
     "output_type": "display_data"
    },
    {
     "data": {
      "image/png": "[encoded data removed]",
      "text/plain": [
       "<Figure size 432x288 with 1 Axes>"
      ]
     },
     "metadata": {
      "needs_background": "light"
     },
     "output_type": "display_data"
    },
    {
     "data": {
      "image/png": "[encoded data removed]",
      "text/plain": [
       "<Figure size 432x288 with 1 Axes>"
      ]
     },
     "metadata": {
      "needs_background": "light"
     },
     "output_type": "display_data"
    },
    {
     "data": {
      "image/png": "[encoded data removed]",
      "text/plain": [
       "<Figure size 432x288 with 1 Axes>"
      ]
     },
     "metadata": {
      "needs_background": "light"
     },
     "output_type": "display_data"
    }
   ],
   "source": [
    "for col in train.columns:\n",
    "    plt.hist(train[col])\n",
    "    plt.title(col)\n",
    "    plt.show()"
   ]
  },
  {
   "cell_type": "code",
   "execution_count": 21,
   "id": "07f404b5",
   "metadata": {},
   "outputs": [
    {
     "data": {
      "image/png": "[encoded data removed]",
      "text/plain": [
       "<Figure size 432x288 with 1 Axes>"
      ]
     },
     "metadata": {
      "needs_background": "light"
     },
     "output_type": "display_data"
    }
   ],
   "source": [
    "#orange has the highest logerror out of all of them aka countys\n",
    "sns.barplot(data=train,x='location', y='Log_error',hue='location' )\n",
    "plt.title('difference in logerror across counties')\n",
    "plt.show()"
   ]
  },
  {
   "cell_type": "code",
   "execution_count": null,
   "id": "a419f73f",
   "metadata": {},
   "outputs": [],
   "source": []
  }
 ],
 "metadata": {
  "kernelspec": {
   "display_name": "Python 3 (ipykernel)",
   "language": "python",
   "name": "python3"
  },
  "language_info": {
   "codemirror_mode": {
    "name": "ipython",
    "version": 3
   },
   "file_extension": ".py",
   "mimetype": "text/x-python",
   "name": "python",
   "nbconvert_exporter": "python",
   "pygments_lexer": "ipython3",
   "version": "3.9.12"
  }
 },
 "nbformat": 4,
 "nbformat_minor": 5
}
